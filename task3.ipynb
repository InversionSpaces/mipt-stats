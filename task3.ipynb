{
 "cells": [
  {
   "cell_type": "markdown",
   "metadata": {},
   "source": [
    "# <a href=\"https://mipt-stats.gitlab.io/courses/ad_fivt.html\">Введение в анализ данных</a>\n",
    "## Домашнее задание 3. Оценки параметров и сбор данных.\n"
   ]
  },
  {
   "cell_type": "markdown",
   "metadata": {},
   "source": [
    "**Правила, <font color=\"red\">прочитайте внимательно</font>:**\n",
    "\n",
    "* Выполненную работу нужно отправить телеграм-боту `@miptstats_ad21_bot`. Для начала работы с ботом каждый раз отправляйте `/start`. Работы, присланные иным способом, не принимаются.\n",
    "* Дедлайн см. в боте. После дедлайна работы не принимаются кроме случаев наличия уважительной причины.\n",
    "* Прислать нужно ноутбук в формате ipynb и **в формате html**, который можно получить как `File -> Download as -> HTML`.\n",
    "* Теоретические задачи необходимо прислать одним из следующих способов:\n",
    "  * фотографией в правильной ориентации, где все четко видно, а почерк разборчив;\n",
    "  * фотографией, **встроенной в ноутбук** посредством `Edit -> Insert Image`;\n",
    "  * в виде $LaTeX$ в markdown-ячейках.\n",
    "* Теоретические задачи не проверяются, если какое-то требование не выполнено. Особенно внимательно все проверьте в случае выбора второго пункта. Неправильно вставленные фотографии могут не передаться при отправке.\n",
    "* Будьте внимательны при работе со сбором данных. Ответственность за корректность ваших действий лежит на вас. Не нагружайте сервера, *делайте паузы между запросами*. Как следствие, начинайте выполнять задание заранее. **Если вас где-то забаннили и т.п., то это не является уважительной причиной продления дедлайна.**\n",
    "* Выполнять задание необходимо полностью самостоятельно. **При обнаружении списывания все участники списывания будут сдавать устный зачет.**\n",
    "* Решения, размещенные на каких-либо интернет-ресурсах, не принимаются. Кроме того, публикация решения в открытом доступе может быть приравнена к предоставлении возможности списать.\n",
    "* Для выполнения задания используйте этот ноутбук в качестве основы, ничего не удаляя из него. Можно добавлять необходимое количество ячеек.\n",
    "* Комментарии к решению пишите в markdown-ячейках.\n",
    "* Выполнение задания (ход решения, выводы и пр.) должно быть осуществлено на русском языке.\n",
    "* Если код будет не понятен проверяющему, оценка может быть снижена.\n",
    "* Никакой код из данного задания при проверке запускаться не будет. *Если код студента не выполнен, недописан и т.д., то он не оценивается.*\n",
    "\n",
    "\n",
    "**Баллы за задание:**\n",
    "\n",
    "<b><font color=\"blue\">Легкая часть</font></b> (достаточно на \"хор\"):\n",
    "* Задача 1 &mdash; 3 балла\n",
    "* Задача 2 &mdash; 5 баллов\n",
    "* Задача 3 &mdash; 12 баллов\n",
    "\n",
    "<b><font color=\"orange\">Сложная часть</font></b> (необходимо на \"отл\"):\n",
    "* Задача 4 &mdash; 6 баллов\n",
    "* Задача 5 &mdash; 10 баллов"
   ]
  },
  {
   "cell_type": "code",
   "execution_count": 3,
   "metadata": {
    "colab": {},
    "colab_type": "code",
    "id": "ht9Xm0EucoAr"
   },
   "outputs": [],
   "source": [
    "import numpy as np\n",
    "import pandas as pd\n",
    "import matplotlib.pyplot as plt\n",
    "import seaborn as sns\n",
    "\n",
    "sns.set(style='whitegrid', font_scale=1.3, palette='Set2')\n",
    "%matplotlib inline\n",
    "\n",
    "import requests\n",
    "from time import sleep\n",
    "import json"
   ]
  },
  {
   "cell_type": "markdown",
   "metadata": {},
   "source": [
    "### <font color=\"blue\"><i>Легкая часть</i></font>"
   ]
  },
  {
   "cell_type": "markdown",
   "metadata": {
    "id": "hYgTespbkXej"
   },
   "source": [
    "### Задача 1.   \n",
    "\n",
    "**a).** Пусть $X_1,...,X_n$ выборка из некоторого распределения $\\mathsf{P}$, причем ${\\sf D} X_1=\\sigma^2<+\\infty$, и $\\sigma$ неизвестно. \n",
    "Рассмотрим оценку $S^2 = \\overline{X^2}-\\overline{X}^2$ дисперсии $\\sigma^2$.\n",
    "\n",
    "Докажите, что $S^2=\\frac1n\\sum\\limits_{i=1}^n\\left(X_i-\\overline{X}\\right)^2$.\n",
    "\n",
    "**b).** Оценка $\\widehat{\\theta}$ называется несмещенной оценкой параметра $\\theta$ если для любого $\\theta \\in \\Theta$ выполнено $\\mathsf{E}_\\theta \\widehat{\\theta} = \\theta$. Иначе говоря, какое бы ни оказалось истинное значение параметра $\\theta$ рассматривая оценку $\\widehat{\\theta}$ в среднем будем получать именно $\\theta$.\n",
    "\n",
    "Является ли статистика $S^2$ несмещенной оценкой $\\sigma^2$?\n",
    "\n",
    "*Подсказка.* Посчитайте математическое ожидание случайной величины $S^2$. Используйте для этого известные вам свойства математического ожидания."
   ]
  },
  {
   "cell_type": "markdown",
   "metadata": {},
   "source": [
    "**a)** Заметим, что\n",
    "$$ \\frac1n\\sum\\limits_{i=1}^n\\left(X_i-\\overline{X}\\right)^2 = \n",
    "    \\frac1n\\sum\\limits_{i=1}^n X_i^2 - \n",
    "    \\frac2n\\sum\\limits_{i=1}^n X_i \\overline{X} +  \n",
    "    \\frac1n\\sum\\limits_{i=1}^n \\overline{X}^2 = \n",
    "    \\overline{X^2} - \\frac{2\\overline{X}}{n}\\sum\\limits_{i=1}^n X_i - \\overline{X}^2 =\n",
    "    \\overline{X^2} - 2\\overline{X}^2 + \\overline{X}^2 = S^2.\n",
    "$$"
   ]
  },
  {
   "cell_type": "markdown",
   "metadata": {},
   "source": [
    "**b)** Вычислим\n",
    "$$ \\mathsf{E}S^2 = \\mathsf{E}\\overline{X^2} - \\mathsf{E}\\overline{X}^2 = \n",
    "    \\mathsf{E}X^2 - \\mathsf{E}\\left(\\overline{X} - \\mathsf{E}\\overline{X} + \\mathsf{E}\\overline{X}\\right)^2=\n",
    "    \\mathsf{E}X^2 - {\\sf D}\\overline{X} - \n",
    "    2\\mathsf{E}\\left(\\overline{X} - \\mathsf{E}\\overline{X}\\right)\\mathsf{E}\\overline{X} - \n",
    "    \\left(\\mathsf{E}\\overline{X}\\right)^2 = \n",
    "    {\\sf D}X - {\\sf D}\\overline{X} = (1 - \\frac1n) {\\sf D}X.\n",
    "$$\n",
    "В последнем равенстве было использовано то, что ${\\sf D}\\overline{X} = \\frac{n \\cdot {\\sf D}X}{n^2} = \\frac{{\\sf D}X}{n}$, так как $X_1, \\ldots X_n$ независимы.\n",
    "\n",
    "Значит $S^2$ - смещённая оценка дисперсии $X$."
   ]
  },
  {
   "cell_type": "markdown",
   "metadata": {
    "id": "ZH_7vCIE4Md7"
   },
   "source": [
    " ---\n",
    "### Задача 2.   \n",
    "Пусть $X_1, ..., X_n$ &mdash; выборка из распределения $\\mathcal{N}(0, \\sigma^2)$. В качестве оценок $\\sigma^2$ обычно используют $S^2$ или $\\frac{n}{n-1}S^2$. Что можно сказать про их несмещенность?"
   ]
  },
  {
   "cell_type": "markdown",
   "metadata": {
    "id": "jHlO95TVJGqx"
   },
   "source": [
    "**Ответ:** Из результатов выще - первая не является несмещённой, а вторая является."
   ]
  },
  {
   "cell_type": "markdown",
   "metadata": {
    "id": "JP3jb2n64hgO"
   },
   "source": [
    "**1.** Теперь проверьте это на практике. Для каждой из приведенных выше оценок $\\widehat{\\theta}$ выполните следующие действия.\n",
    "\n",
    "* Вычислите $k = 500$ независимых оценок $\\widehat{\\theta}_1, ... , \\widehat{\\theta}_k$ по независимым выборкам $(X_1^1, ... , X_n^1), ... , (X_1^k, ... , X_n^k)$, сгенерированным из распределения $\\mathcal{N}(0, \\sigma^2)$. Далее вычислите среднее этих оценок, которое обозначим $\\overline{\\theta}$.\n",
    "\n",
    "* Визуализируйте полученные значения, построив на **одном** графике точки $(\\widehat{\\theta}_1, $y$), ... , (\\widehat{\\theta}_k, y)$ и среднее оценок $(\\overline{\\theta}, y)$, где $y$ &mdash; произвольные различные (например 0, 1, 2) координаты для двух различных типов оценок.\n",
    "\n",
    "* Повторите действие три раза для $n \\in \\{10, 100, 500\\}$. В итоге получится три графика для различных $n$, на каждом из которых изображено поведение двух типов оценок и их среднее.\n",
    "\n",
    "Используйте приведенный ниже **шаблон** для визуализации значений.\n",
    "\n",
    "**Внимание!** Следите за информативностью и наглядностью графиков. Например, пустых пространств должно быть как можно меньше, ничего не должно быть скомкано, вся нужная информация должна быть представлена. Посмотрите также презентацию с разбора задания 1. **Если график чему-то не удовлетворяет, оценка может быть снижена.**\n",
    "\n",
    "Вместо использования `matplotlib` можно также строить графики с помощью `plotly`."
   ]
  },
  {
   "cell_type": "code",
   "execution_count": null,
   "metadata": {
    "id": "EkmPUrPwpoEZ"
   },
   "outputs": [],
   "source": [
    "# Вначале:\n",
    "plt.figure(figsize=<размер>)\n",
    "\n",
    "# Для каждой оценки:\n",
    "plt.scatter(<независимые оценки> , np.zeros(k) + y, \n",
    "            alpha=0.1, s=100, color=<цвет>, label=<метка>)\n",
    "plt.scatter(<независимые оценки>.mean(), y, marker='*', s=200, \n",
    "            color='w', edgecolors='black')\n",
    "\n",
    "# Для всего графика:\n",
    "plt.vlines(1, <наименьший y>, <наибольший y>, color='r')\n",
    "plt.title(f'Размер выборки = {k}')\n",
    "plt.yticks([])\n",
    "plt.legend()"
   ]
  },
  {
   "cell_type": "markdown",
   "metadata": {
    "id": "FdCCsVL43jva"
   },
   "source": [
    "**Решение:**"
   ]
  },
  {
   "cell_type": "code",
   "execution_count": 8,
   "metadata": {},
   "outputs": [],
   "source": [
    "import scipy.stats as sps"
   ]
  },
  {
   "cell_type": "code",
   "execution_count": 9,
   "metadata": {
    "id": "8qcnAu0a3jva"
   },
   "outputs": [
    {
     "data": {
      "image/png": "[encoded data removed]",
      "text/plain": [
       "<Figure size 864x144 with 1 Axes>"
      ]
     },
     "metadata": {
      "needs_background": "light"
     },
     "output_type": "display_data"
    },
    {
     "data": {
      "image/png": "[encoded data removed]",
      "text/plain": [
       "<Figure size 864x144 with 1 Axes>"
      ]
     },
     "metadata": {
      "needs_background": "light"
     },
     "output_type": "display_data"
    },
    {
     "data": {
      "image/png": "[encoded data removed]",
      "text/plain": [
       "<Figure size 864x144 with 1 Axes>"
      ]
     },
     "metadata": {
      "needs_background": "light"
     },
     "output_type": "display_data"
    }
   ],
   "source": [
    "sigma2 = 25\n",
    "k = 500\n",
    "\n",
    "for n in [10, 100, 500]:\n",
    "    samples = sps.norm.rvs(loc=0, scale=sigma2 ** 0.5, size=(k, n))\n",
    "    \n",
    "    estimations = np.var(samples, axis=1)\n",
    "    corrected_estmts = (n / (n - 1)) * estimations\n",
    "    \n",
    "    plt.figure(figsize=(12,2))\n",
    "    \n",
    "    plt.scatter(estimations, np.zeros(k) + 1, \n",
    "            alpha=0.1, s=100, color=\"blue\", label=\"S^2\")\n",
    "    plt.scatter(estimations.mean(), 1, marker='.', s=200, \n",
    "            color='w', edgecolors='black')\n",
    "    \n",
    "    plt.scatter(corrected_estmts, np.zeros(k) + 2, \n",
    "            alpha=0.1, s=100, color=\"green\", label=\"(n/(n-1))S^2\")\n",
    "    plt.scatter(corrected_estmts.mean(), 2, marker='.', s=200, \n",
    "            color='w', edgecolors='black')\n",
    "\n",
    "    plt.vlines(sigma2, 0.75, 2.25, color='g', label=\"sigma^2\")\n",
    "    plt.vlines(sigma2 - 1 / n * sigma2, 0.75, 2.25, color='b', label=\"(1 - 1/n)sigma^2\")\n",
    "    plt.title(f'Размер выборки = {n}')\n",
    "    plt.yticks([])\n",
    "    plt.legend()\n",
    "    \n",
    "    plt.show()"
   ]
  },
  {
   "cell_type": "markdown",
   "metadata": {
    "id": "-ZfBwUhe3jvb"
   },
   "source": [
    "**2.** Изучим поведение среднего оценок из первого пункта при росте размера выборки. Постройте график зависимости $\\overline{\\theta}$ от $n$ для двух типов оценок. Для вычисления зависимости нужно один раз сгенерировать выборки из пункта 1 достаточно большого размера (не более 500) и посчитать оценки по подвыборкам, используя <a href=\"https://mipt-stats.gitlab.io/courses/python/05_numpy.html#2.1-Математические-операции\">функции</a> из `numpy`. Использовать циклы, а так же функции, разворачивающиеся в цикл (например, `np.vectorize`), запрещено. Какие из оценок являются асимптотически несмещёнными, т.е. $\\forall \\theta \\in \\Theta\\colon \\mathsf{E}_\\theta \\widehat{\\theta} \\to \\theta$ при $n\\to +\\infty$?"
   ]
  },
  {
   "cell_type": "markdown",
   "metadata": {
    "id": "jIBkuOKb3jvb"
   },
   "source": [
    "**Решение:**"
   ]
  },
  {
   "cell_type": "code",
   "execution_count": 10,
   "metadata": {
    "id": "ZP8sBmKL3jvb"
   },
   "outputs": [],
   "source": [
    "sigma2 = 25\n",
    "\n",
    "k = 50000\n",
    "maxn = 500\n",
    "\n",
    "samples = sps.norm.rvs(loc=0, scale=sigma2 ** 0.5, size=(k, maxn))\n",
    "counts = np.ones(maxn).cumsum()\n",
    "\n",
    "means = samples.cumsum(axis=1) / counts\n",
    "means_sq = means ** 2\n",
    "\n",
    "squares = samples ** 2\n",
    "sq_means = squares.cumsum(axis=1) / counts\n",
    "\n",
    "estimations = (sq_means - means_sq).mean(axis=0)\n",
    "\n",
    "minn = 10\n",
    "\n",
    "counts = counts[minn:]\n",
    "estimations = estimations[minn:]\n",
    "\n",
    "corrected_estmts = (counts / (counts - 1)) * estimations"
   ]
  },
  {
   "cell_type": "code",
   "execution_count": 11,
   "metadata": {},
   "outputs": [
    {
     "data": {
      "image/png": "[encoded data removed]",
      "text/plain": [
       "<Figure size 576x576 with 1 Axes>"
      ]
     },
     "metadata": {
      "needs_background": "light"
     },
     "output_type": "display_data"
    }
   ],
   "source": [
    "x = np.arange(minn, maxn)\n",
    "\n",
    "plt.figure(figsize=(8, 8))\n",
    "\n",
    "plt.plot(x, estimations, color=\"red\", label=\"S^2\")\n",
    "plt.plot(x, corrected_estmts, color=\"blue\", label=\"(n/(n-1))S^2\")\n",
    "\n",
    "plt.xlabel(\"Размер выборки (n)\")\n",
    "plt.legend()\n",
    "\n",
    "plt.show()"
   ]
  },
  {
   "cell_type": "markdown",
   "metadata": {
    "id": "agviQcZi3jvd"
   },
   "source": [
    "Сделайте вывод о том, что такое свойство несмещенности. Подтверждают ли сделанные эксперименты полученное в теоретических задачах свойство несмещенности (или отсутствие этого свойства) данных оценок? Поясните, почему в лабораторных по физике при оценке погрешности иногда используют $n-1$ в знаменателе, а не $n$."
   ]
  },
  {
   "cell_type": "markdown",
   "metadata": {
    "id": "md1nb2PX3jvd"
   },
   "source": [
    "**Вывод:** "
   ]
  },
  {
   "cell_type": "markdown",
   "metadata": {},
   "source": [
    "Асимптотически обе оценки являются несмещёнными. \n",
    "\n",
    "Для данных двух оценок заметно, что свойство несмещённости обеспечивает независимость смещения от размера выборки \n",
    "(конечно, это не следствие, можно, например, сместить оценку на константу).\n",
    "\n",
    "\n",
    "Что такое свойство несмещённости, я затрудняюсь задать лучше, чем в определении:\n",
    "это такая оценка параметра, матожидание которой равно этому параметру для любого его значения.\n",
    "\n",
    "Данные эксперименты подтверждают наличие свойства несмещённости у второй оценки\n",
    "и его отсутствие у первой.\n",
    "\n",
    "В лабораторных по физике используют $n-1$ в знаменателе вместо $n$, видимо, для получения несмещённой оценки."
   ]
  },
  {
   "cell_type": "markdown",
   "metadata": {},
   "source": [
    "*Замечание.* Проведенные эксперименты позволяют сделать вывод только о поведении среднего значения оценки, но ничего не говорят о том, насколько велик их разброс относительно среднего."
   ]
  },
  {
   "attachments": {
    "a47371.buy12r.1ets.rs.ii.jpg": {
     "image/jpeg": "[encoded data removed]"
    }
   },
   "cell_type": "markdown",
   "metadata": {},
   "source": [
    " ---\n",
    "### Задача 3.   \n",
    "\n",
    "В этой задаче вам нужно будет проанализировать вакансии на сайте <a target=\"_blank\" href=\"https://hh.ru/\">hh.ru</a>. Для сбора данных рекомендуется использовать <a target=\"_blank\" href=\"https://dev.hh.ru/\">официальное API</a>.\n",
    "\n",
    "![a47371.buy12r.1ets.rs.ii.jpg](attachment:a47371.buy12r.1ets.rs.ii.jpg)"
   ]
  },
  {
   "cell_type": "markdown",
   "metadata": {},
   "source": [
    "**1. Сбор данных**\n",
    "\n",
    "Соберите данные о вакансии Data Scientist по Москве в одну таблицу и подготовьте их для анализа. Часто в индустрии подготовленные для анализа таблицы называют *витринами*. В ней должны быть:\n",
    "- название вакансии,\n",
    "- работодатель,\n",
    "- зарплатная вилка,\n",
    "- станция метро,\n",
    "- ссылка на вакансию,\n",
    "- опыт,\n",
    "- требуемые навыки,\n",
    "- что-то еще по вашему желанию.\n",
    "\n",
    "Креативность приветствуется. При работе с данными о заработной плате обратите внимание на валюту и <a target=\"_blank\" href=\"https://yandex.ru/search/?text=gross%2Fnet&clid=1955455&win=446&lr=213&noreask=1\">gross/net</a>. \n",
    "\n",
    "**При работе с API не забывайте делать паузы между запросами, чтобы не задудосить сервер HeadHunter.**"
   ]
  },
  {
   "cell_type": "code",
   "execution_count": 1,
   "metadata": {},
   "outputs": [],
   "source": [
    "import requests"
   ]
  },
  {
   "cell_type": "code",
   "execution_count": 71,
   "metadata": {},
   "outputs": [
    {
     "name": "stdout",
     "output_type": "stream",
     "text": [
      "page 0, got 0\n",
      "page 1, got 20\n",
      "page 2, got 40\n",
      "page 3, got 60\n",
      "page 4, got 80\n",
      "page 5, got 100\n",
      "page 6, got 120\n",
      "page 7, got 140\n",
      "page 8, got 160\n",
      "page 9, got 180\n",
      "page 10, got 200\n",
      "page 11, got 220\n",
      "page 12, got 240\n",
      "page 13, got 260\n",
      "page 14, got 280\n",
      "page 15, got 300\n",
      "page 16, got 320\n",
      "page 17, got 340\n",
      "page 18, got 342\n",
      "page 19, got 342\n",
      "page 20, got 342\n",
      "page 21, got 342\n",
      "page 22, got 342\n",
      "page 23, got 342\n",
      "page 24, got 342\n",
      "page 25, got 342\n",
      "page 26, got 342\n",
      "page 27, got 342\n",
      "page 28, got 342\n",
      "page 29, got 342\n",
      "page 30, got 342\n",
      "page 31, got 342\n",
      "page 32, got 342\n",
      "page 33, got 342\n",
      "page 34, got 342\n",
      "page 35, got 342\n",
      "page 36, got 342\n",
      "page 37, got 342\n",
      "page 38, got 342\n",
      "page 39, got 342\n",
      "page 40, got 342\n",
      "page 41, got 342\n",
      "page 42, got 342\n",
      "page 43, got 342\n",
      "page 44, got 342\n",
      "page 45, got 342\n",
      "page 46, got 342\n",
      "page 47, got 342\n",
      "page 48, got 342\n",
      "page 49, got 342\n",
      "page 50, got 342\n",
      "page 51, got 342\n",
      "page 52, got 342\n",
      "page 53, got 342\n",
      "page 54, got 342\n",
      "page 55, got 342\n",
      "page 56, got 342\n",
      "page 57, got 342\n",
      "page 58, got 342\n",
      "page 59, got 342\n",
      "page 60, got 342\n",
      "page 61, got 342\n",
      "page 62, got 342\n",
      "page 63, got 342\n",
      "page 64, got 342\n",
      "page 65, got 342\n",
      "page 66, got 342\n",
      "page 67, got 342\n",
      "page 68, got 342\n",
      "page 69, got 342\n",
      "page 70, got 342\n",
      "page 71, got 342\n",
      "page 72, got 342\n",
      "page 73, got 342\n",
      "page 74, got 342\n",
      "page 75, got 342\n",
      "page 76, got 342\n",
      "page 77, got 342\n",
      "page 78, got 342\n",
      "page 79, got 342\n",
      "page 80, got 342\n",
      "page 81, got 342\n",
      "page 82, got 342\n",
      "page 83, got 342\n",
      "page 84, got 342\n",
      "page 85, got 342\n",
      "page 86, got 342\n",
      "page 87, got 342\n",
      "page 88, got 342\n",
      "page 89, got 342\n",
      "page 90, got 342\n",
      "page 91, got 342\n",
      "page 92, got 342\n",
      "page 93, got 342\n",
      "page 94, got 342\n",
      "page 95, got 342\n",
      "page 96, got 342\n",
      "page 97, got 342\n",
      "page 98, got 342\n",
      "page 99, got 342\n"
     ]
    }
   ],
   "source": [
    "URL = 'https://api.hh.ru/vacancies/'\n",
    "\n",
    "unprepared_vacs = list()\n",
    "\n",
    "maximum = 2000\n",
    "per_page = 20\n",
    "for n in range(maximum // per_page):\n",
    "    print(f\"page {n}, got {len(unprepared_vacs)}\")\n",
    "    page = requests.get(URL, {\n",
    "        'text': \"Data Scientist\",\n",
    "        'area': 1, # Москва\n",
    "        'page': n,\n",
    "        'per_page': per_page\n",
    "    }).json()[\"items\"]\n",
    "    \n",
    "    for vac in page:\n",
    "        ident = vac.get(\"id\")\n",
    "        vac = requests.get(URL + ident).json()\n",
    "        unprepared_vacs.append(vac)\n",
    "        \n",
    "        sleep(0.1)"
   ]
  },
  {
   "cell_type": "code",
   "execution_count": 101,
   "metadata": {},
   "outputs": [],
   "source": [
    "def prepare(vac):\n",
    "    name = vac.get(\"name\")\n",
    "    name = name.strip().lower() if name else \"\"\n",
    "        \n",
    "    employer = vac.get(\"employer\")\n",
    "    emp_name, = get(employer, [\"name\"])\n",
    "\n",
    "    salary = vac.get(\"salary\")\n",
    "    sal_from, sal_to, sal_gross, sal_currency = \\\n",
    "        get(salary, [\"from\", \"to\", \"gross\", \"currency\"])\n",
    "\n",
    "    address = vac.get(\"address\")\n",
    "    stations, = get(address, [\"metro_stations\"])\n",
    "    station = stations[0] if stations and len(stations) else None\n",
    "    station_name, = get(station, [\"station_name\"])\n",
    "\n",
    "    url = vac.get(\"alternate_url\")\n",
    "\n",
    "    experience = vac.get(\"experience\")\n",
    "    exp_name, = get(experience, [\"name\"])\n",
    "\n",
    "    vac_skills = vac.get(\"key_skills\")\n",
    "    skills = [skill.get(\"name\") for skill in vac_skills] if vac_skills else []\n",
    "    skills = [skill.strip().lower() for skill in skills]\n",
    "\n",
    "    return [name, url, emp_name, sal_from, sal_to, sal_gross, sal_currency, station_name, exp_name, skills]\n",
    "\n",
    "def get(obj, fields):\n",
    "    if not obj:\n",
    "        return [None] * len(fields)\n",
    "    return [obj.get(field) for field in fields]\n",
    "\n",
    "prepared_vacancies = [prepare(vac) for vac in unprepared_vacs]"
   ]
  },
  {
   "cell_type": "code",
   "execution_count": 102,
   "metadata": {},
   "outputs": [],
   "source": [
    "from difflib import SequenceMatcher\n",
    "\n",
    "def similarity(a, b):\n",
    "    return SequenceMatcher(None, a, b).ratio()"
   ]
  },
  {
   "cell_type": "code",
   "execution_count": 103,
   "metadata": {},
   "outputs": [],
   "source": [
    "skills = set([skill for vac in prepared_vacancies for skill in vac[-1]])\n",
    "\n",
    "skillsd = dict()\n",
    "skill_count = 0\n",
    "for skill in skills:\n",
    "    for another in skillsd.keys():\n",
    "        if similarity(skill, another) > 0.85:\n",
    "            skillsd[skill] = skillsd[another]\n",
    "            break\n",
    "    else:\n",
    "        skillsd[skill] = skill_count\n",
    "        skill_count += 1"
   ]
  },
  {
   "cell_type": "code",
   "execution_count": 104,
   "metadata": {},
   "outputs": [],
   "source": [
    "def skills_vectorize(skills):\n",
    "    vect = [0] * skill_count\n",
    "    for skill in skills:\n",
    "        vect[skillsd[skill]] = 1\n",
    "    return vect"
   ]
  },
  {
   "cell_type": "code",
   "execution_count": 105,
   "metadata": {},
   "outputs": [],
   "source": [
    "vacancies = [vac[:-1] + skills_vectorize(vac[-1]) for vac in prepared_vacancies]"
   ]
  },
  {
   "cell_type": "code",
   "execution_count": 106,
   "metadata": {},
   "outputs": [],
   "source": [
    "standard_columns = [\"name\", \"url\", \"employer\", \"salary_from\", \"salary_to\", \\\n",
    "           \"is_gross\", \"currency\", \"station\", \"experience\"]\n",
    "\n",
    "skill_columns = list()\n",
    "for skill, pos in skillsd.items():\n",
    "    if pos < len(skill_columns):\n",
    "        skill_columns[pos] += \", \" + skill\n",
    "    else:\n",
    "        skill_columns.append(skill)\n",
    "        \n",
    "columns = standard_columns + skill_columns"
   ]
  },
  {
   "cell_type": "code",
   "execution_count": 107,
   "metadata": {},
   "outputs": [
    {
     "data": {
      "text/html": [
       "<div>\n",
       "<style scoped>\n",
       "    .dataframe tbody tr th:only-of-type {\n",
       "        vertical-align: middle;\n",
       "    }\n",
       "\n",
       "    .dataframe tbody tr th {\n",
       "        vertical-align: top;\n",
       "    }\n",
       "\n",
       "    .dataframe thead th {\n",
       "        text-align: right;\n",
       "    }\n",
       "</style>\n",
       "<table border=\"1\" class=\"dataframe\">\n",
       "  <thead>\n",
       "    <tr style=\"text-align: right;\">\n",
       "      <th></th>\n",
       "      <th>name</th>\n",
       "      <th>url</th>\n",
       "      <th>employer</th>\n",
       "      <th>salary_from</th>\n",
       "      <th>salary_to</th>\n",
       "      <th>is_gross</th>\n",
       "      <th>currency</th>\n",
       "      <th>station</th>\n",
       "      <th>experience</th>\n",
       "      <th>seaborn</th>\n",
       "      <th>...</th>\n",
       "      <th>xgboost</th>\n",
       "      <th>django</th>\n",
       "      <th>sagemaker</th>\n",
       "      <th>power bi</th>\n",
       "      <th>hive</th>\n",
       "      <th>продуктовый аналитик</th>\n",
       "      <th>high-performance computing</th>\n",
       "      <th>анализ бизнес показателей</th>\n",
       "      <th>swarm</th>\n",
       "      <th>di</th>\n",
       "    </tr>\n",
       "  </thead>\n",
       "  <tbody>\n",
       "    <tr>\n",
       "      <th>0</th>\n",
       "      <td>data scientist в области компьютерного зрения</td>\n",
       "      <td>https://hh.ru/vacancy/43896076</td>\n",
       "      <td>Fair Print &amp; High Store</td>\n",
       "      <td>150000.0</td>\n",
       "      <td>150000.0</td>\n",
       "      <td>False</td>\n",
       "      <td>RUR</td>\n",
       "      <td>None</td>\n",
       "      <td>Нет опыта</td>\n",
       "      <td>0</td>\n",
       "      <td>...</td>\n",
       "      <td>0</td>\n",
       "      <td>0</td>\n",
       "      <td>0</td>\n",
       "      <td>0</td>\n",
       "      <td>0</td>\n",
       "      <td>0</td>\n",
       "      <td>0</td>\n",
       "      <td>0</td>\n",
       "      <td>0</td>\n",
       "      <td>0</td>\n",
       "    </tr>\n",
       "    <tr>\n",
       "      <th>1</th>\n",
       "      <td>data scientist / quantitative researcher</td>\n",
       "      <td>https://hh.ru/vacancy/43471916</td>\n",
       "      <td>Знаменка Капитал</td>\n",
       "      <td>250000.0</td>\n",
       "      <td>NaN</td>\n",
       "      <td>True</td>\n",
       "      <td>RUR</td>\n",
       "      <td>Кропоткинская</td>\n",
       "      <td>От 3 до 6 лет</td>\n",
       "      <td>0</td>\n",
       "      <td>...</td>\n",
       "      <td>0</td>\n",
       "      <td>0</td>\n",
       "      <td>0</td>\n",
       "      <td>0</td>\n",
       "      <td>0</td>\n",
       "      <td>0</td>\n",
       "      <td>0</td>\n",
       "      <td>0</td>\n",
       "      <td>0</td>\n",
       "      <td>0</td>\n",
       "    </tr>\n",
       "    <tr>\n",
       "      <th>2</th>\n",
       "      <td>data scientist / machine learning engineer // ...</td>\n",
       "      <td>https://hh.ru/vacancy/42857558</td>\n",
       "      <td>Wisebits</td>\n",
       "      <td>4000.0</td>\n",
       "      <td>NaN</td>\n",
       "      <td>False</td>\n",
       "      <td>EUR</td>\n",
       "      <td>None</td>\n",
       "      <td>От 1 года до 3 лет</td>\n",
       "      <td>0</td>\n",
       "      <td>...</td>\n",
       "      <td>0</td>\n",
       "      <td>0</td>\n",
       "      <td>0</td>\n",
       "      <td>0</td>\n",
       "      <td>0</td>\n",
       "      <td>0</td>\n",
       "      <td>0</td>\n",
       "      <td>0</td>\n",
       "      <td>0</td>\n",
       "      <td>0</td>\n",
       "    </tr>\n",
       "    <tr>\n",
       "      <th>3</th>\n",
       "      <td>junior data scientist</td>\n",
       "      <td>https://hh.ru/vacancy/43825932</td>\n",
       "      <td>Институт прикладных экономических исследований...</td>\n",
       "      <td>120000.0</td>\n",
       "      <td>NaN</td>\n",
       "      <td>True</td>\n",
       "      <td>RUR</td>\n",
       "      <td>Юго-Западная</td>\n",
       "      <td>От 1 года до 3 лет</td>\n",
       "      <td>0</td>\n",
       "      <td>...</td>\n",
       "      <td>1</td>\n",
       "      <td>0</td>\n",
       "      <td>0</td>\n",
       "      <td>0</td>\n",
       "      <td>0</td>\n",
       "      <td>0</td>\n",
       "      <td>0</td>\n",
       "      <td>0</td>\n",
       "      <td>0</td>\n",
       "      <td>0</td>\n",
       "    </tr>\n",
       "    <tr>\n",
       "      <th>4</th>\n",
       "      <td>data scientist</td>\n",
       "      <td>https://hh.ru/vacancy/42011548</td>\n",
       "      <td>РАБЛЗ</td>\n",
       "      <td>150000.0</td>\n",
       "      <td>280000.0</td>\n",
       "      <td>True</td>\n",
       "      <td>RUR</td>\n",
       "      <td>None</td>\n",
       "      <td>От 3 до 6 лет</td>\n",
       "      <td>0</td>\n",
       "      <td>...</td>\n",
       "      <td>0</td>\n",
       "      <td>0</td>\n",
       "      <td>0</td>\n",
       "      <td>0</td>\n",
       "      <td>0</td>\n",
       "      <td>0</td>\n",
       "      <td>0</td>\n",
       "      <td>0</td>\n",
       "      <td>0</td>\n",
       "      <td>0</td>\n",
       "    </tr>\n",
       "    <tr>\n",
       "      <th>5</th>\n",
       "      <td>ведущий аналитик данных / data scientist</td>\n",
       "      <td>https://hh.ru/vacancy/43354290</td>\n",
       "      <td>ГЕТСИЭРЭМ</td>\n",
       "      <td>NaN</td>\n",
       "      <td>300000.0</td>\n",
       "      <td>True</td>\n",
       "      <td>RUR</td>\n",
       "      <td>Площадь Ильича</td>\n",
       "      <td>От 3 до 6 лет</td>\n",
       "      <td>0</td>\n",
       "      <td>...</td>\n",
       "      <td>0</td>\n",
       "      <td>0</td>\n",
       "      <td>0</td>\n",
       "      <td>0</td>\n",
       "      <td>0</td>\n",
       "      <td>0</td>\n",
       "      <td>0</td>\n",
       "      <td>0</td>\n",
       "      <td>0</td>\n",
       "      <td>0</td>\n",
       "    </tr>\n",
       "    <tr>\n",
       "      <th>6</th>\n",
       "      <td>data scientist</td>\n",
       "      <td>https://hh.ru/vacancy/44111453</td>\n",
       "      <td>Outlines Technologies</td>\n",
       "      <td>NaN</td>\n",
       "      <td>NaN</td>\n",
       "      <td>None</td>\n",
       "      <td>None</td>\n",
       "      <td>None</td>\n",
       "      <td>Нет опыта</td>\n",
       "      <td>0</td>\n",
       "      <td>...</td>\n",
       "      <td>0</td>\n",
       "      <td>0</td>\n",
       "      <td>0</td>\n",
       "      <td>0</td>\n",
       "      <td>0</td>\n",
       "      <td>0</td>\n",
       "      <td>0</td>\n",
       "      <td>0</td>\n",
       "      <td>0</td>\n",
       "      <td>0</td>\n",
       "    </tr>\n",
       "    <tr>\n",
       "      <th>7</th>\n",
       "      <td>data scientist + продуктовый аналитик (команда...</td>\n",
       "      <td>https://hh.ru/vacancy/44049177</td>\n",
       "      <td>Туту.ру</td>\n",
       "      <td>NaN</td>\n",
       "      <td>NaN</td>\n",
       "      <td>None</td>\n",
       "      <td>None</td>\n",
       "      <td>Нагатинская</td>\n",
       "      <td>От 1 года до 3 лет</td>\n",
       "      <td>0</td>\n",
       "      <td>...</td>\n",
       "      <td>0</td>\n",
       "      <td>0</td>\n",
       "      <td>0</td>\n",
       "      <td>0</td>\n",
       "      <td>0</td>\n",
       "      <td>0</td>\n",
       "      <td>0</td>\n",
       "      <td>0</td>\n",
       "      <td>0</td>\n",
       "      <td>0</td>\n",
       "    </tr>\n",
       "    <tr>\n",
       "      <th>8</th>\n",
       "      <td>senior data scientist /quantitative analyst (к...</td>\n",
       "      <td>https://hh.ru/vacancy/44035419</td>\n",
       "      <td>Skanestas Investments Limited</td>\n",
       "      <td>3500.0</td>\n",
       "      <td>4000.0</td>\n",
       "      <td>True</td>\n",
       "      <td>EUR</td>\n",
       "      <td>None</td>\n",
       "      <td>От 3 до 6 лет</td>\n",
       "      <td>0</td>\n",
       "      <td>...</td>\n",
       "      <td>0</td>\n",
       "      <td>0</td>\n",
       "      <td>0</td>\n",
       "      <td>0</td>\n",
       "      <td>0</td>\n",
       "      <td>0</td>\n",
       "      <td>0</td>\n",
       "      <td>0</td>\n",
       "      <td>0</td>\n",
       "      <td>0</td>\n",
       "    </tr>\n",
       "    <tr>\n",
       "      <th>9</th>\n",
       "      <td>data scientist / data engineer</td>\n",
       "      <td>https://hh.ru/vacancy/43357165</td>\n",
       "      <td>Баззула Интернет Технологии</td>\n",
       "      <td>150000.0</td>\n",
       "      <td>NaN</td>\n",
       "      <td>False</td>\n",
       "      <td>RUR</td>\n",
       "      <td>None</td>\n",
       "      <td>От 1 года до 3 лет</td>\n",
       "      <td>0</td>\n",
       "      <td>...</td>\n",
       "      <td>0</td>\n",
       "      <td>0</td>\n",
       "      <td>0</td>\n",
       "      <td>0</td>\n",
       "      <td>0</td>\n",
       "      <td>0</td>\n",
       "      <td>0</td>\n",
       "      <td>0</td>\n",
       "      <td>0</td>\n",
       "      <td>0</td>\n",
       "    </tr>\n",
       "  </tbody>\n",
       "</table>\n",
       "<p>10 rows × 325 columns</p>\n",
       "</div>"
      ],
      "text/plain": [
       "                                                name  \\\n",
       "0      data scientist в области компьютерного зрения   \n",
       "1           data scientist / quantitative researcher   \n",
       "2  data scientist / machine learning engineer // ...   \n",
       "3                              junior data scientist   \n",
       "4                                     data scientist   \n",
       "5           ведущий аналитик данных / data scientist   \n",
       "6                                     data scientist   \n",
       "7  data scientist + продуктовый аналитик (команда...   \n",
       "8  senior data scientist /quantitative analyst (к...   \n",
       "9                     data scientist / data engineer   \n",
       "\n",
       "                              url  \\\n",
       "0  https://hh.ru/vacancy/43896076   \n",
       "1  https://hh.ru/vacancy/43471916   \n",
       "2  https://hh.ru/vacancy/42857558   \n",
       "3  https://hh.ru/vacancy/43825932   \n",
       "4  https://hh.ru/vacancy/42011548   \n",
       "5  https://hh.ru/vacancy/43354290   \n",
       "6  https://hh.ru/vacancy/44111453   \n",
       "7  https://hh.ru/vacancy/44049177   \n",
       "8  https://hh.ru/vacancy/44035419   \n",
       "9  https://hh.ru/vacancy/43357165   \n",
       "\n",
       "                                            employer  salary_from  salary_to  \\\n",
       "0                            Fair Print & High Store     150000.0   150000.0   \n",
       "1                                   Знаменка Капитал     250000.0        NaN   \n",
       "2                                           Wisebits       4000.0        NaN   \n",
       "3  Институт прикладных экономических исследований...     120000.0        NaN   \n",
       "4                                              РАБЛЗ     150000.0   280000.0   \n",
       "5                                          ГЕТСИЭРЭМ          NaN   300000.0   \n",
       "6                              Outlines Technologies          NaN        NaN   \n",
       "7                                            Туту.ру          NaN        NaN   \n",
       "8                      Skanestas Investments Limited       3500.0     4000.0   \n",
       "9                        Баззула Интернет Технологии     150000.0        NaN   \n",
       "\n",
       "  is_gross currency         station          experience  seaborn  ...  \\\n",
       "0    False      RUR            None           Нет опыта        0  ...   \n",
       "1     True      RUR   Кропоткинская       От 3 до 6 лет        0  ...   \n",
       "2    False      EUR            None  От 1 года до 3 лет        0  ...   \n",
       "3     True      RUR    Юго-Западная  От 1 года до 3 лет        0  ...   \n",
       "4     True      RUR            None       От 3 до 6 лет        0  ...   \n",
       "5     True      RUR  Площадь Ильича       От 3 до 6 лет        0  ...   \n",
       "6     None     None            None           Нет опыта        0  ...   \n",
       "7     None     None     Нагатинская  От 1 года до 3 лет        0  ...   \n",
       "8     True      EUR            None       От 3 до 6 лет        0  ...   \n",
       "9    False      RUR            None  От 1 года до 3 лет        0  ...   \n",
       "\n",
       "   xgboost  django  sagemaker  power bi  hive  продуктовый аналитик  \\\n",
       "0        0       0          0         0     0                     0   \n",
       "1        0       0          0         0     0                     0   \n",
       "2        0       0          0         0     0                     0   \n",
       "3        1       0          0         0     0                     0   \n",
       "4        0       0          0         0     0                     0   \n",
       "5        0       0          0         0     0                     0   \n",
       "6        0       0          0         0     0                     0   \n",
       "7        0       0          0         0     0                     0   \n",
       "8        0       0          0         0     0                     0   \n",
       "9        0       0          0         0     0                     0   \n",
       "\n",
       "   high-performance computing  анализ бизнес показателей  swarm  di  \n",
       "0                           0                          0      0   0  \n",
       "1                           0                          0      0   0  \n",
       "2                           0                          0      0   0  \n",
       "3                           0                          0      0   0  \n",
       "4                           0                          0      0   0  \n",
       "5                           0                          0      0   0  \n",
       "6                           0                          0      0   0  \n",
       "7                           0                          0      0   0  \n",
       "8                           0                          0      0   0  \n",
       "9                           0                          0      0   0  \n",
       "\n",
       "[10 rows x 325 columns]"
      ]
     },
     "execution_count": 107,
     "metadata": {},
     "output_type": "execute_result"
    }
   ],
   "source": [
    "df = pd.DataFrame(vacancies, columns=columns)\n",
    "df.head(10)"
   ]
  },
  {
   "cell_type": "markdown",
   "metadata": {},
   "source": [
    "**2. Анализ и визуализация данных**"
   ]
  },
  {
   "cell_type": "markdown",
   "metadata": {},
   "source": [
    "Проведите исследование получившихся данных. Прежде всего убедитесь, что ваши данные чистые. Убедитесь, что вы проделали следующее:\n",
    "- удаление дубликатов,\n",
    "- предобработка пропусков,\n",
    "- предобработка текстовых данных.\n",
    "\n",
    "Среди вакансий можно выделять группы. *Например*, бизнес-аналитик, BI аналитик, продуктовый аналитик.\n",
    "\n",
    "Ответьте не следующие вопросы:  \n",
    "- Сколько сейчас доступно вакансий по вашему запросу?\n",
    "- Выделяются ли среди вакансий какие-то группы? \n",
    "- Какие группы вакансий самые популярные?\n",
    "- Какова средняя и медианная заработная плата?\n",
    "- Какие ключевые навыки требуются для данной вакансии?\n",
    "- Какой опыт требуется для данной вакансии?\n",
    "- Какие работодатели в топе? \n",
    "- В каком районе Москвы данная вакансия пользуется наибольшим и наименьшим спросом?\n",
    "\n",
    "Не забудьте про визуализацию &mdash; для этого используйте библиотеку plotly. Постройте следующие графики:\n",
    "- гистограмма распределения заработной платы;\n",
    "- heatmap, отображающий зависимость количества вакансий от группы и навыка;\n",
    "- зависимость средней заработной платы от требуемых навыков;\n",
    "- распределение средней заработной платы по карте Москвы;\n",
    "- распределение спроса на вакансию по карте Москвы.\n",
    "\n",
    "Для построения последних двух графиков вам могут понадобиться <a target=\"_blank\" href=\"http://www.lovrikinfo.ru/metrogps.php\">внешние данные</a>.\n"
   ]
  },
  {
   "cell_type": "code",
   "execution_count": 79,
   "metadata": {},
   "outputs": [
    {
     "data": {
      "text/plain": [
       "342"
      ]
     },
     "execution_count": 79,
     "metadata": {},
     "output_type": "execute_result"
    }
   ],
   "source": [
    "# Доступно вакансий\n",
    "df.shape[0]"
   ]
  },
  {
   "cell_type": "markdown",
   "metadata": {},
   "source": [
    "Более-менее четко удалось выделить следующие группы:"
   ]
  },
  {
   "cell_type": "code",
   "execution_count": 171,
   "metadata": {},
   "outputs": [],
   "source": [
    "groups = dict()\n",
    "groups[\"big_data\"] = df[df[\"name\"].str.contains(\"big|больш\")]\n",
    "groups[\"nlp\"] = df[df[\"name\"].str.contains(\"nlp\")]\n",
    "groups[\"engineer\"] = df[df[\"name\"].str.contains(\"engineer|инженер\")]\n",
    "groups[\"ml\"] = df[df[\"name\"].str.contains(\"ml|machine learning|маш\")]\n",
    "groups[\"analyst\"] = df[df[\"name\"].str.contains(\"analyst|аналитик\")]\n",
    "groups[\"bi\"] = df[df[\"name\"].str.contains(\"bi\")]\n",
    "groups[\"cv\"] = df[df[\"name\"].str.contains(\"computer vision|cv\")]"
   ]
  },
  {
   "cell_type": "code",
   "execution_count": 176,
   "metadata": {},
   "outputs": [
    {
     "data": {
      "text/plain": [
       "[(54, 'engineer'),\n",
       " (39, 'analyst'),\n",
       " (24, 'ml'),\n",
       " (14, 'bi'),\n",
       " (13, 'nlp'),\n",
       " (10, 'cv'),\n",
       " (10, 'big_data')]"
      ]
     },
     "execution_count": 176,
     "metadata": {},
     "output_type": "execute_result"
    }
   ],
   "source": [
    "# Популярность групп\n",
    "sorted([(rows.shape[0], name)  for name, rows in groups.items()], reverse=True)"
   ]
  },
  {
   "cell_type": "code",
   "execution_count": 201,
   "metadata": {},
   "outputs": [
    {
     "name": "stderr",
     "output_type": "stream",
     "text": [
      "/home/inv/.local/lib/python3.9/site-packages/pandas/core/generic.py:9286: SettingWithCopyWarning: \n",
      "A value is trying to be set on a copy of a slice from a DataFrame\n",
      "\n",
      "See the caveats in the documentation: https://pandas.pydata.org/pandas-docs/stable/user_guide/indexing.html#returning-a-view-versus-a-copy\n",
      "  return self._where(\n",
      "/home/inv/.local/lib/python3.9/site-packages/pandas/core/indexing.py:1597: SettingWithCopyWarning: \n",
      "A value is trying to be set on a copy of a slice from a DataFrame.\n",
      "Try using .loc[row_indexer,col_indexer] = value instead\n",
      "\n",
      "See the caveats in the documentation: https://pandas.pydata.org/pandas-docs/stable/user_guide/indexing.html#returning-a-view-versus-a-copy\n",
      "  self.obj[key] = value\n",
      "/home/inv/.local/lib/python3.9/site-packages/pandas/core/indexing.py:1676: SettingWithCopyWarning: \n",
      "A value is trying to be set on a copy of a slice from a DataFrame.\n",
      "Try using .loc[row_indexer,col_indexer] = value instead\n",
      "\n",
      "See the caveats in the documentation: https://pandas.pydata.org/pandas-docs/stable/user_guide/indexing.html#returning-a-view-versus-a-copy\n",
      "  self._setitem_single_column(ilocs[0], value, pi)\n",
      "<ipython-input-201-a7522c464df3>:8: SettingWithCopyWarning: \n",
      "A value is trying to be set on a copy of a slice from a DataFrame\n",
      "\n",
      "See the caveats in the documentation: https://pandas.pydata.org/pandas-docs/stable/user_guide/indexing.html#returning-a-view-versus-a-copy\n",
      "  salary.dropna(subset=[\"salary\"], inplace=True)\n",
      "/home/inv/.local/lib/python3.9/site-packages/pandas/core/generic.py:9286: SettingWithCopyWarning: \n",
      "A value is trying to be set on a copy of a slice from a DataFrame\n",
      "\n",
      "See the caveats in the documentation: https://pandas.pydata.org/pandas-docs/stable/user_guide/indexing.html#returning-a-view-versus-a-copy\n",
      "  return self._where(\n"
     ]
    }
   ],
   "source": [
    "salary = df[[\"salary_from\", \"salary_to\", \"is_gross\", \"currency\"]]\n",
    "\n",
    "salary[\"salary_to\"].mask(salary[\"salary_to\"].isna(), salary[\"salary_from\"], inplace=True)\n",
    "salary[\"salary_from\"].mask(salary[\"salary_from\"].isna(), salary[\"salary_to\"], inplace=True)\n",
    "\n",
    "salary.loc[:,\"salary\"] = (salary[\"salary_to\"] + salary[\"salary_from\"]) / 2\n",
    "\n",
    "salary.dropna(subset=[\"salary\"], inplace=True)\n",
    "\n",
    "salary[\"salary\"].mask(salary[\"currency\"] == \"EUR\", salary[\"salary\"] * 80, inplace=True)\n",
    "salary[\"salary\"].mask(salary[\"currency\"] == \"USD\", salary[\"salary\"] * 60, inplace=True)\n",
    "salary[\"salary\"].mask(salary[\"is_gross\"] == True, salary[\"salary\"] * 0.87, inplace=True)\n",
    "\n",
    "salary = salary[\"salary\"]"
   ]
  },
  {
   "cell_type": "code",
   "execution_count": 203,
   "metadata": {},
   "outputs": [
    {
     "data": {
      "text/plain": [
       "195033.0357142857"
      ]
     },
     "execution_count": 203,
     "metadata": {},
     "output_type": "execute_result"
    }
   ],
   "source": [
    "# Средняя зарплата в рублях после вычета налогов\n",
    "salary.mean()"
   ]
  },
  {
   "cell_type": "markdown",
   "metadata": {},
   "source": [
    "Какие выводы можно сделать из построенных графиков?\n",
    "\n",
    "<...>"
   ]
  },
  {
   "cell_type": "markdown",
   "metadata": {},
   "source": [
    "**3. Анализ профессии, о которой вы мечтали в детстве**"
   ]
  },
  {
   "cell_type": "markdown",
   "metadata": {},
   "source": [
    "Проведите аналогичное исследование для профессии, о которой вы мечтали в детстве. Это может быть повар, учитель, пожарный и т.д. &mdash; все зависит от вас ☺."
   ]
  },
  {
   "cell_type": "code",
   "execution_count": null,
   "metadata": {},
   "outputs": [],
   "source": [
    "..."
   ]
  },
  {
   "cell_type": "markdown",
   "metadata": {},
   "source": [
    "**Замечание в тему.** Многие из вас наверняка сейчас уже начинают задумываться о работе. Конечно, вы имеете на это полное право. Однако, по нашему опыту работа на 3 курсе отрицательно сказывается на степени усвоения материала. По сути все предметы цикла Data Science у вас еще впереди. Подумайте, наверное, лучше разобраться во всем во время учебы, чем потом что-то где-то нагонять. Более простой вариант &mdash; летняя стажировка, но не забудьте отдохнуть, набравшись сил перед непростым 3 курсом ☺."
   ]
  },
  {
   "cell_type": "markdown",
   "metadata": {},
   "source": [
    "\n",
    "---\n",
    "### <font color=\"orange\"><i>Сложная часть</i></font>\n",
    "\n",
    "### Задача 4.\n",
    "\n",
    "Найдите оценку параметра $\\theta$ методом моментов по выборке размера $n$ из распределения:\n",
    "* $U(a, b), \\theta=(a, b)$; \n",
    "* $Pois(\\theta)$;\n",
    "* $\\mathcal{N}(a, \\sigma^2), \\theta=(a, \\sigma)$."
   ]
  },
  {
   "cell_type": "markdown",
   "metadata": {
    "id": "rA8jNWguSPSM"
   },
   "source": [
    "---\n",
    "### Задача 5.\n",
    "\n",
    "В данной задаче вам предстоит распарсить сайт, который вы выберите.\n",
    "\n",
    "**1.** Каждая ссылка (URL) в интернете состоит из нескольких компонент:\n",
    "\n",
    "* схема, *например, `http` или `https`*,\n",
    "* хост, *наример, `en.wikipedia.org`*\n",
    "* путь, по которому находится информация,\n",
    "* параметры,\n",
    "* якорь &mdash; указание фрагмента страницы."
   ]
  },
  {
   "cell_type": "markdown",
   "metadata": {
    "id": "JHJGEWu4SPSN"
   },
   "source": [
    "![url_parts.png](data:image/png;base64,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)"
   ]
  },
  {
   "cell_type": "markdown",
   "metadata": {
    "id": "yLuIXPezSPSV"
   },
   "source": [
    "Одна и та же ссылка может иметь несколько форм и вести на ту же самую страницу. Во время обхода сайта это надо учитывать и сохранять один уникальный урл для каждой страницы. Процедура, приводящая урл к каноничному виду, называется нормализацией.\n",
    "Процедуры, которые применяются к урлу для нормализации, описаны, например, на <a target=\"_blank\" href=\"https://ru.wikipedia.org/wiki/%D0%9D%D0%BE%D1%80%D0%BC%D0%B0%D0%BB%D0%B8%D0%B7%D0%B0%D1%86%D0%B8%D1%8F_URL\">Википедии</a>.\n",
    "\n",
    "Установите пакет `url_normalize`, в котором есть готовая функция для нормализации."
   ]
  },
  {
   "cell_type": "raw",
   "metadata": {
    "id": "x1WMgDCoSPSX"
   },
   "source": [
    "pip install url_normalize"
   ]
  },
  {
   "cell_type": "markdown",
   "metadata": {
    "id": "RSEJtva6SPSY"
   },
   "source": [
    "Прочитайте, как именно функция `url_normalize` меняет ссылку, и приведите примеры $4$ урлов, которые нормализуются к одному и тому же. Примеры должны демонстрировать различные этапы процедуры нормализации. Одним из этих примеров может быть сам нормализованный урл."
   ]
  },
  {
   "cell_type": "code",
   "execution_count": null,
   "metadata": {
    "id": "HD1enOlrSPSY"
   },
   "outputs": [],
   "source": [
    "from url_normalize import url_normalize"
   ]
  },
  {
   "cell_type": "code",
   "execution_count": null,
   "metadata": {
    "id": "5429_vCZSPSY"
   },
   "outputs": [],
   "source": [
    "..."
   ]
  },
  {
   "cell_type": "markdown",
   "metadata": {
    "id": "aYrDnZgOSPSY"
   },
   "source": [
    "_____________\n",
    "Изучите код, в котором скачиваются страницы сайта `simple.wikipedia.org` с <a href=\"https://mipt-stats.gitlab.io/courses/ad_fivt/data_parsing.html\">занятия про парсинг данных</a>. Код, реализующий обход в ширину с фильтрацией и нормализацией урлов, приведён в виде функции."
   ]
  },
  {
   "cell_type": "code",
   "execution_count": null,
   "metadata": {
    "id": "3RcFQtIuSPSZ"
   },
   "outputs": [],
   "source": [
    "from urllib.parse import urlparse, urldefrag, urljoin\n",
    "from urllib.request import urlopen\n",
    "from bs4 import BeautifulSoup\n",
    "from queue import Queue\n",
    "import time"
   ]
  },
  {
   "cell_type": "markdown",
   "metadata": {
    "id": "izuJ-jM9SPSZ"
   },
   "source": [
    "Код обхода в ширину:"
   ]
  },
  {
   "cell_type": "code",
   "execution_count": null,
   "metadata": {
    "id": "5mC5Mt8QSPSZ"
   },
   "outputs": [],
   "source": [
    "def load_web_pages(seed, max_downloads, filtration_function):\n",
    "    '''Обходит web-страницы в ширину и загружает информацию о них.\n",
    "    \n",
    "    Принимает:\n",
    "        seed (str) -- страница, с которой начинать обход.\n",
    "        max_downloads (int) -- максимальное число загруженных страниц.\n",
    "        filtration_function (str -> bool) -- функция, указывающая, \n",
    "            стоит ли загружать страницу. Пример: is_wiki_article.\n",
    "            \n",
    "    Возвращает:\n",
    "        pages_json (list) - список словарей с информацией о страницах.\n",
    "    '''\n",
    "    \n",
    "    # Создаём список со страницами\n",
    "    pages_json = []\n",
    "    \n",
    "    # Создаём очередь для обхода в ширину\n",
    "    q = Queue()\n",
    "    q.put(seed)\n",
    "\n",
    "    already_visited = set()\n",
    "    n_downloads = 0\n",
    "    time_start = time.time()\n",
    "\n",
    "    while not q.empty():\n",
    "        # Нормализуем урл\n",
    "        main_url = url_normalize(q.get())\n",
    "        if main_url in already_visited:\n",
    "            continue\n",
    "        already_visited.add(main_url)\n",
    "        html = download_from_the_internet(main_url)\n",
    "\n",
    "        # Извлекаем ссылки из страницы\n",
    "        children_links = extract_links_from_html(main_url, html)\n",
    "        time.sleep(1)\n",
    "\n",
    "        # Извлекаем текст страницы\n",
    "        text_info = extract_text_info_from_html(html) \n",
    "\n",
    "        # Добавляем запись в таблицу\n",
    "        text_info['url'] = main_url\n",
    "        pages_json.append(text_info)\n",
    "\n",
    "        n_downloads += 1\n",
    "        if n_downloads > max_downloads:\n",
    "            break\n",
    "\n",
    "        # Добавляем ещё не посещённые ссылки в очередь\n",
    "        for child in children_links:\n",
    "            if url_normalize(child) not in already_visited \\\n",
    "            and filtration_function(child):\n",
    "                q.put(child)\n",
    "                \n",
    "    return pages_json"
   ]
  },
  {
   "cell_type": "markdown",
   "metadata": {
    "id": "NmvhIvxqSPSa"
   },
   "source": [
    "**2.** Выберите сайт, который вам интересен, а также некоторую категорию страниц в нём. Поймите, с какой страницы сайта надо начать обход, чтобы обходить сайты данной категории.\n",
    "\n",
    "*Пример: ищем статьи про Data Science на Википедии, начинаем со статьи Data Dcience*.\n",
    "\n",
    "**Укажите, что выбрали:** <...>\n",
    "\n",
    "Придумайте критерий, который по тексту из HTML-страницы будет определять, находится ли страница в определённой вами категории.\n",
    "\n",
    "*Пример: статья на Википедии про Data Science, если в ней есть слово \"data\" или термины из статистики, теории вероятностей и анализа данных*.\n",
    "\n",
    "**Опишите критерий:** <...>\n",
    "\n",
    "Начав с выбранной страницы, скачайте не менее $500$ страниц сайта. В качестве функции фильтрации возьмите функцию, которая отделяет страницы с выбранного сайта от других."
   ]
  },
  {
   "cell_type": "code",
   "execution_count": null,
   "metadata": {
    "id": "Ny_bHaM2SPSa"
   },
   "outputs": [],
   "source": [
    "..."
   ]
  },
  {
   "cell_type": "markdown",
   "metadata": {
    "id": "CRTS3n7SSPSa"
   },
   "source": [
    "Cделайте таблицу со следующей информацией:\n",
    "\n",
    "* количество слов в тексте статьи;\n",
    "* принадлежит ли страница выбранной категории.\n",
    "\n",
    "Для последнего пункта можете воспользоваться функцией поиска слов по заданным префиксам, рассмотренной на <a href=\"https://mipt-stats.gitlab.io/courses/ad_fivt/data_parsing.html\">занятии</a>."
   ]
  },
  {
   "cell_type": "code",
   "execution_count": null,
   "metadata": {
    "id": "86jEvSSbSPSa"
   },
   "outputs": [],
   "source": [
    "..."
   ]
  },
  {
   "cell_type": "markdown",
   "metadata": {
    "id": "RVBT7vf1SPSb"
   },
   "source": [
    "Определите, какой процент скачанных страниц принадлежит выбранной категории?"
   ]
  },
  {
   "cell_type": "code",
   "execution_count": null,
   "metadata": {
    "id": "JcSREDuRSPSb"
   },
   "outputs": [],
   "source": [
    "..."
   ]
  },
  {
   "cell_type": "markdown",
   "metadata": {
    "id": "Kb9VYr_RSPSb"
   },
   "source": [
    "C помощью гистограмм сравните визуально распределения количества слов в статьях из выбранной категории и во всех остальных. Для этих двух распределений вычислите средние, медианы и дисперсии. Средние и медианы отобразите на графиках с гистограммами. Сделайте выводы."
   ]
  },
  {
   "cell_type": "code",
   "execution_count": null,
   "metadata": {
    "id": "ESSLuUFxSPSb"
   },
   "outputs": [],
   "source": [
    "..."
   ]
  },
  {
   "cell_type": "markdown",
   "metadata": {
    "id": "ten-hEvMSPSb"
   },
   "source": [
    "Постройте boxplot-графики для того, чтобы сравнить эти 2 распределения. Какой способ сравнения кажется вам более удобным?"
   ]
  },
  {
   "cell_type": "code",
   "execution_count": null,
   "metadata": {
    "id": "6MAL_YBhSPSb"
   },
   "outputs": [],
   "source": [
    "..."
   ]
  },
  {
   "cell_type": "markdown",
   "metadata": {
    "id": "E075Q2TeSPSc"
   },
   "source": [
    "**3.** При помощи `plotly` визуализируйте скачанные страницы сайта. В качестве значений по осям возьмите количество слов на странице и количество ссылок на ней. Цветом обозначьте принадлежность выбранной вами категории. При наведении курсора на точку, обозначающую страницу, должна появляться подсказка с названием этой страницы."
   ]
  },
  {
   "cell_type": "code",
   "execution_count": null,
   "metadata": {
    "id": "zFLdpeNxSPSc"
   },
   "outputs": [],
   "source": [
    "..."
   ]
  },
  {
   "cell_type": "markdown",
   "metadata": {
    "id": "ZEbXPI9XSPSc"
   },
   "source": [
    "**4.** Предложите функцию фильтрации web-страниц, которую нужно подать в `load_web_pages`, чтобы среди скачанных сайтов был больше процент страниц из выбранной вами категории."
   ]
  },
  {
   "cell_type": "code",
   "execution_count": null,
   "metadata": {
    "id": "rmq1nzqjSPSc"
   },
   "outputs": [],
   "source": [
    "..."
   ]
  },
  {
   "cell_type": "markdown",
   "metadata": {
    "id": "U4RICuIBSPSd"
   },
   "source": [
    "Скачайте снова не менее $500$ страниц, но уже с новой функцией фильтрации. Добавьте следующую информацию к каждой странице:\n",
    "\n",
    "* глубина в обходе,\n",
    "* время скачивания страницы.\n",
    "\n",
    "Для замера времени можете воспользоваться функцией `time` из пакета `time`."
   ]
  },
  {
   "cell_type": "code",
   "execution_count": null,
   "metadata": {
    "id": "IqF2W0_PSPSd"
   },
   "outputs": [],
   "source": [
    "..."
   ]
  },
  {
   "cell_type": "markdown",
   "metadata": {
    "id": "-IgS4xrSSPSd"
   },
   "source": [
    "Постройте гистограмму и ядерную оценку плотности для времени скачивания страницы."
   ]
  },
  {
   "cell_type": "code",
   "execution_count": null,
   "metadata": {
    "id": "swnPjXbESPSd"
   },
   "outputs": [],
   "source": [
    "..."
   ]
  },
  {
   "cell_type": "markdown",
   "metadata": {},
   "source": [
    "Какими известными вам стандартными распределениями оно может быть приближено? Найдите оценку параметров этого распределения по методу моментов и отобразите на графике плотность с полученными значениями параметров.\n",
    "\n",
    "*Замечание.* Результат сильно зависит от сайта, железа и прочих характеристик. По идее должно получится неплохое приближение чем-то из того, что вам известно. Но если ничего не получится, то просто оставьте и прокомментируйте ваши попытки разобраться."
   ]
  },
  {
   "cell_type": "code",
   "execution_count": null,
   "metadata": {},
   "outputs": [],
   "source": [
    "..."
   ]
  },
  {
   "cell_type": "markdown",
   "metadata": {},
   "source": [
    "**Выводы:** <...>"
   ]
  }
 ],
 "metadata": {
  "colab": {
   "collapsed_sections": [],
   "name": "stats.ipynb",
   "provenance": [],
   "version": "0.3.2"
  },
  "kernelspec": {
   "display_name": "Python 3",
   "language": "python",
   "name": "python3"
  },
  "language_info": {
   "codemirror_mode": {
    "name": "ipython",
    "version": 3
   },
   "file_extension": ".py",
   "mimetype": "text/x-python",
   "name": "python",
   "nbconvert_exporter": "python",
   "pygments_lexer": "ipython3",
   "version": "3.9.2"
  }
 },
 "nbformat": 4,
 "nbformat_minor": 1
}
