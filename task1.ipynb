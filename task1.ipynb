{
 "cells": [
  {
   "cell_type": "markdown",
   "metadata": {},
   "source": [
    "# <a href=\"https://mipt-stats.gitlab.io/courses/ad_fivt.html\">Введение в анализ данных</a>\n",
    "## Домашнее задание 1. `Numpy`, `matplotlib`, `scipy.stats`\n",
    "\n",
    "При возникновении сложностей, связанных с Питоном и библиотеками, посмотрите материалы видео-курса <a href=\"https://mipt-stats.gitlab.io/courses/python.html\">Python для анализа данных</a>. Если не помогло, задайте вопрос по заданию."
   ]
  },
  {
   "cell_type": "markdown",
   "metadata": {},
   "source": [
    "**Правила:**\n",
    "\n",
    "* Выполненную работу нужно отправить телеграм-боту `@miptstats_ad21_bot`. Для начала работы с ботом каждый раз отправляйте `/start`. Работы, присланные иным способом, не принимаются.\n",
    "* Дедлайн см. в боте. После дедлайна работы не принимаются кроме случаев наличия уважительной причины.\n",
    "* Прислать нужно ноутбук в формате ipynb. \n",
    "* Решения, размещенные на каких-либо интернет-ресурсах, не принимаются. Кроме того, публикация решения в открытом доступе может быть приравнена к предоставлении возможности списать.\n",
    "* Для выполнения задания используйте этот ноутбук в качестве основы, ничего не удаляя из него.\n",
    "* Если код будет не понятен проверяющему, оценка может быть снижена.\n",
    "* Выполнение задания (ход решения, выводы и пр.) должно быть осуществлено на русском языке.\n",
    "\n",
    "**Баллы за задание:**\n",
    "\n",
    "<font color=\"blue\"><b>Легкая часть</b></font> (достаточно на \"хор\"):\n",
    "* Задача 1.1 — 3 балла\n",
    "* Задача 1.2 — 3 балла\n",
    "* Задача 2 — 3 балла\n",
    "\n",
    "<font color=\"orange\"><b>Сложная часть</b></font> (необходимо на \"отл\"):\n",
    "* Задача 1.3 — 3 балла\n",
    "* Задача 3.1 — 3 балла\n",
    "* Задача 3.2 — 3 балла\n",
    "* Задача 3.3 — 3 балла\n",
    "* Задача 4 — 4 балла\n"
   ]
  },
  {
   "cell_type": "code",
   "execution_count": 1,
   "metadata": {},
   "outputs": [],
   "source": [
    "import numpy as np\n",
    "import scipy.stats as sps\n",
    "\n",
    "import matplotlib.pyplot as plt\n",
    "import matplotlib.cm as cm\n",
    "from mpl_toolkits.mplot3d import Axes3D\n",
    "import ipywidgets as widgets\n",
    "\n",
    "import typing\n",
    "\n",
    "%matplotlib inline"
   ]
  },
  {
   "cell_type": "markdown",
   "metadata": {},
   "source": [
    "### <font color=\"blue\"><i>Легкая часть: генерация</i></font>"
   ]
  },
  {
   "cell_type": "markdown",
   "metadata": {},
   "source": [
    "<font color=\"red\">В этой части другие библиотеки использовать запрещено. Шаблоны кода ниже менять нельзя. </font>\n",
    "\n",
    "### Задача 1\n",
    "Имеется симметричная монета. Напишите функцию генерации независимых случайных величин из нормального и экспоненциального распределений с заданными параметрами."
   ]
  },
  {
   "cell_type": "code",
   "execution_count": 2,
   "metadata": {},
   "outputs": [],
   "source": [
    "# Эта ячейка -- единственная в задаче 1, в которой нужно использовать\n",
    "# библиотечную функция для генерации случайных чисел.\n",
    "# В других ячейках данной задачи используйте функцию coin.\n",
    "\n",
    "# симметричная монета\n",
    "coin = sps.bernoulli(0.5).rvs"
   ]
  },
  {
   "cell_type": "markdown",
   "metadata": {},
   "source": [
    "Проверьте работоспособность функции, сгенерировав 10 бросков симметричной монеты."
   ]
  },
  {
   "cell_type": "code",
   "execution_count": 59,
   "metadata": {},
   "outputs": [
    {
     "data": {
      "text/plain": [
       "array([[[0.16796875, 0.703125  , 0.23144531, 0.33789062, 0.19238281],\n",
       "        [0.75      , 0.50976562, 0.27050781, 0.33886719, 0.14257812]]])"
      ]
     },
     "execution_count": 59,
     "metadata": {},
     "output_type": "execute_result"
    }
   ],
   "source": [
    "coin(size=(1, 2, 5))\n",
    "coins = coin(size=(1, 2, 5) + (10,))\n",
    "powers = np.logspace(1, 10, base=0.5, num=10)\n",
    "np.inner(powers, coins)"
   ]
  },
  {
   "cell_type": "markdown",
   "metadata": {},
   "source": [
    "**Часть 1.** Напишите сначала функцию генерации случайных величин из равномерного распределения на отрезке $[0, 1]$ с заданной точностью. Это можно сделать, записав случайную величину $\\xi \\sim U[0, 1]$ в двоичной системе системе счисления $\\xi = 0,\\xi_1\\xi_2\\xi_3...$. Тогда $\\xi_i \\sim Bern(1/2)$ и независимы в совокупности. Приближение заключается в том, что вместо генерации бесконечного количества $\\xi_i$ мы полагаем $\\xi = 0,\\xi_1\\xi_2\\xi_3...\\xi_n$.\n",
    "\n",
    "Нужно реализовать функцию нужно так, чтобы она могла принимать на вход в качестве параметра `size` как число, так и объект `tuple` любой размерности, и возвращать объект `numpy.array` соответствующей размерности. Например, если `size=(10, 1, 5)`, то функция должна вернуть объект размера $10 \\times 1 \\times 5$. Кроме того, функцию `coin` можно вызвать только один раз, и, конечно же, не использовать какие-либо циклы. Аргумент `precision` отвечает за число $n$."
   ]
  },
  {
   "cell_type": "code",
   "execution_count": 79,
   "metadata": {},
   "outputs": [],
   "source": [
    "def uniform(size=1, precision=30):\n",
    "    return np.inner(np.logspace(1, precision, num=precision, base=0.5), coin(np.append(size, precision)))"
   ]
  },
  {
   "cell_type": "markdown",
   "metadata": {},
   "source": [
    "Для $U[0, 1]$ сгенерируйте $200$ независимых случайных величин, постройте график плотности на отрезке $[-0.25, 1.25]$, а также гистограмму по сгенерированным случайным величинам."
   ]
  },
  {
   "cell_type": "code",
   "execution_count": 80,
   "metadata": {},
   "outputs": [
    {
     "data": {
      "image/png": "[encoded data removed]",
      "text/plain": [
       "<Figure size 720x288 with 1 Axes>"
      ]
     },
     "metadata": {
      "needs_background": "light"
     },
     "output_type": "display_data"
    }
   ],
   "source": [
    "size = 200\n",
    "grid = np.linspace(-0.25, 1.25, num=500)\n",
    "sample = uniform(size, precision=50)\n",
    "\n",
    "# Отрисовка графика\n",
    "plt.figure(figsize=(10, 4))\n",
    "\n",
    "# отображаем значения случайных величин полупрозрачными точками\n",
    "plt.scatter(\n",
    "    sample, \n",
    "    np.zeros(size), \n",
    "    alpha=0.4, \n",
    "    label=\"Uniform\"\n",
    ")\n",
    "\n",
    "# по точкам строим нормированную полупрозрачную гистограмму\n",
    "plt.hist(\n",
    "    sample, \n",
    "    10, \n",
    "    density=True, \n",
    "    alpha=0.4, \n",
    "    color=\"orange\"\n",
    ")\n",
    "\n",
    "# рисуем график плотности\n",
    "plt.plot(\n",
    "    grid, \n",
    "    sps.uniform.pdf(grid), \n",
    "    color=\"red\", \n",
    "    lw=3, \n",
    "    label=\"density\"\n",
    ")\n",
    "plt.legend(fontsize=15)\n",
    "plt.grid(ls=':')\n",
    "plt.show()"
   ]
  },
  {
   "cell_type": "markdown",
   "metadata": {},
   "source": [
    "Исследуйте, как меняются значения случайных величин в зависимости от `precision`."
   ]
  },
  {
   "cell_type": "code",
   "execution_count": 81,
   "metadata": {},
   "outputs": [
    {
     "data": {
      "image/png": "[encoded data removed]",
      "text/plain": [
       "<Figure size 1080x216 with 6 Axes>"
      ]
     },
     "metadata": {
      "needs_background": "light"
     },
     "output_type": "display_data"
    }
   ],
   "source": [
    "size = 100\n",
    "\n",
    "plt.figure(figsize=(15, 3))\n",
    "\n",
    "for i, precision in enumerate([1, 2, 3, 5, 10, 30]):\n",
    "    plt.subplot(3, 2, i + 1)\n",
    "    plt.scatter(\n",
    "        uniform(size, precision), \n",
    "        np.zeros(size), \n",
    "        alpha=0.4\n",
    "    )\n",
    "    plt.yticks([])\n",
    "    if i < 4: plt.xticks([])\n",
    "\n",
    "plt.show()"
   ]
  },
  {
   "cell_type": "markdown",
   "metadata": {},
   "source": [
    "**Вывод:**\n",
    "\n",
    "При увелечении параметра `precision` распределение действительно приближается к равномерному."
   ]
  },
  {
   "cell_type": "markdown",
   "metadata": {},
   "source": [
    "**Часть 2.** Напишите функцию генерации случайных величин в количестве `size` штук из распределения $\\mathcal{N}(loc, scale^2)$ с помощью преобразования Бокса-Мюллера, которое заключается в следующем. Пусть $\\xi$ и $\\eta$ — независимые случайные величины, равномерно распределенные на $(0, 1]$. Тогда случайные величины $X = cos(2\\pi\\xi)\\sqrt{-2\\ln\\eta}, Y = sin(2\\pi\\xi)\\sqrt{-2\\ln\\eta}$ являются независимыми нормальными $\\mathcal{N}(0, 1)$.\n",
    "\n",
    "Реализация должна быть без циклов. В качестве параметра `size` может быть как число, так и объект `tuple` любой размерности. Желательно использовать как можно меньше бросков монеты. Можно использовать реализованную ранее функцию `uniform`."
   ]
  },
  {
   "cell_type": "code",
   "execution_count": 82,
   "metadata": {},
   "outputs": [],
   "source": [
    "def normal(size=1, loc=0, scale=1, precision=30):\n",
    "    ksi, tetta = uniform(size), uniform(size)\n",
    "    return loc + scale * np.cos(2 * np.pi * ksi) * np.sqrt(-2 * np.log(tetta))"
   ]
  },
  {
   "cell_type": "markdown",
   "metadata": {},
   "source": [
    "Для $\\mathcal{N}(0, 1)$ сгенерируйте $200$ независимых случайных величин, постройте график плотности на отрезке $[-3, 3]$, а также гистограмму по сгенерированным случайным величинам."
   ]
  },
  {
   "cell_type": "code",
   "execution_count": 83,
   "metadata": {},
   "outputs": [
    {
     "data": {
      "image/png": "[encoded data removed]",
      "text/plain": [
       "<Figure size 720x288 with 1 Axes>"
      ]
     },
     "metadata": {
      "needs_background": "light"
     },
     "output_type": "display_data"
    }
   ],
   "source": [
    "size = 200\n",
    "grid = np.linspace(-3, 3, num=500)\n",
    "sample = normal(size, precision=50)\n",
    "\n",
    "# Отрисовка графика\n",
    "plt.figure(figsize=(10, 4))\n",
    "\n",
    "# отображаем значения случайных величин полупрозрачными точками\n",
    "plt.scatter(\n",
    "    sample, \n",
    "    np.zeros(size), \n",
    "    alpha=0.4, \n",
    "    label=\"Normal\"\n",
    ")\n",
    "\n",
    "# по точкам строим нормированную полупрозрачную гистограмму\n",
    "plt.hist(\n",
    "    sample, \n",
    "    10, \n",
    "    density=True, \n",
    "    alpha=0.4, \n",
    "    color=\"orange\"\n",
    ")\n",
    "\n",
    "# рисуем график плотности\n",
    "plt.plot(\n",
    "    grid, \n",
    "    sps.norm.pdf(grid), \n",
    "    color=\"red\", \n",
    "    lw=3, \n",
    "    label=\"density\"\n",
    ")\n",
    "plt.legend(fontsize=15)\n",
    "plt.grid(ls=':')\n",
    "plt.show()"
   ]
  },
  {
   "cell_type": "markdown",
   "metadata": {},
   "source": [
    "### <font color=\"orange\"><i>Сложная часть: генерация</i></font>\n",
    "\n",
    "**Часть 3.** Вы уже научились генерировать выборку из равномерного распределения. Напишите функцию генерации выборки из экспоненциального распределения, используя задачу из теории вероятностей:\n",
    "\n",
    "*Если $\\xi$ — случайная величина, имеющая абсолютно непрерывное распределение, и $F$ — ее функция распределения, то случайная величина $F(\\xi)$ имеет равномерное распределение на $[0, 1]$*.\n",
    "\n",
    "Какое преобразование над равномерной случайной величиной необходимо совершить? Поясните ответ."
   ]
  },
  {
   "cell_type": "markdown",
   "metadata": {},
   "source": [
    "Пусть $\\xi \\sim Exp(\\lambda)$ - случайная величина, имеющая абсолютно непрерывное распределение, тогда $F(x) = 1 - e^{- \\lambda x}$ - её функция распределения. Известно, что $F(\\xi) \\sim U[0,1]$, тогда если $X \\sim U[0,1]$, то $\\xi = - \\frac{\\ln(1 - X)}{\\lambda} \\sim Exp(\\lambda)$. Можно также заметить, что $(1 - X) \\sim U[0, 1]$."
   ]
  },
  {
   "cell_type": "markdown",
   "metadata": {},
   "source": [
    "Для получения полного балла реализация должна быть без циклов, а параметр `size` может быть типа `tuple`."
   ]
  },
  {
   "cell_type": "code",
   "execution_count": 84,
   "metadata": {},
   "outputs": [],
   "source": [
    "def expon(size=1, lambd=1, precision=30):\n",
    "    return -np.log(uniform(size, precision=precision)) / lambd"
   ]
  },
  {
   "cell_type": "markdown",
   "metadata": {},
   "source": [
    "Для $Exp(1)$ сгенерируйте выборку размера 100 и постройте график плотности этого распределения на отрезке $[-0.5, 5]$."
   ]
  },
  {
   "cell_type": "code",
   "execution_count": 85,
   "metadata": {},
   "outputs": [
    {
     "data": {
      "image/png": "[encoded data removed]",
      "text/plain": [
       "<Figure size 720x288 with 1 Axes>"
      ]
     },
     "metadata": {
      "needs_background": "light"
     },
     "output_type": "display_data"
    }
   ],
   "source": [
    "size = 100\n",
    "grid = np.linspace(-0.5, 5, num=500)\n",
    "sample = expon(size, precision=50)\n",
    "\n",
    "# Отрисовка графика\n",
    "plt.figure(figsize=(10, 4))\n",
    "\n",
    "# отображаем значения случайных величин полупрозрачными точками\n",
    "plt.scatter(\n",
    "    sample, \n",
    "    np.zeros(size), \n",
    "    alpha=0.4, \n",
    "    label=\"Exp\"\n",
    ")\n",
    "\n",
    "# по точкам строим нормированную полупрозрачную гистограмму\n",
    "plt.hist(\n",
    "    sample, \n",
    "    10, \n",
    "    density=True, \n",
    "    alpha=0.4, \n",
    "    color=\"orange\"\n",
    ")\n",
    "\n",
    "# рисуем график плотности\n",
    "plt.plot(\n",
    "    grid, \n",
    "    sps.expon.pdf(grid), \n",
    "    color=\"red\", \n",
    "    lw=3, \n",
    "    label=\"density\"\n",
    ")\n",
    "plt.legend(fontsize=15)\n",
    "plt.grid(ls=':')\n",
    "plt.show()"
   ]
  },
  {
   "cell_type": "markdown",
   "metadata": {},
   "source": [
    "**Вывод по задаче:**"
   ]
  },
  {
   "cell_type": "markdown",
   "metadata": {},
   "source": [
    "Случайные величины с нормальным и экспоненциальным распределением могут быть сгенерированы из случайной величины с равномерным распределением, которая в свою очередь может быть сгенерирована из случайной величины с распределением $Bern(0.5)$."
   ]
  },
  {
   "cell_type": "markdown",
   "metadata": {},
   "source": [
    "### <font color=\"blue\"><i>Легкая часть: матричное умножение</i></font>"
   ]
  },
  {
   "cell_type": "markdown",
   "metadata": {},
   "source": [
    "### Задача 2\n",
    "Напишите функцию, реализующую матричное умножение. При вычислении разрешается создавать объекты размерности три. Запрещается пользоваться функциями, реализующими матричное умножение, например, `numpy.dot`, операция `@`, операция умножения в классе `numpy.matrix`, суммы Эйнштейна и прочие. Разрешено пользоваться только простыми поэлементными векторно-арифметическими операциями над `numpy.array`, любыми операциями изменения формы массива. \n",
    "\n",
    "*Авторское решение занимает одну строчку.*"
   ]
  },
  {
   "cell_type": "code",
   "execution_count": 118,
   "metadata": {},
   "outputs": [],
   "source": [
    "def matrix_multiplication(A, B):   \n",
    "    # A.shape = (n, m), B.shape = (m, k)\n",
    "    # A[:,:,np.newaxis].shape = (n, m, 1)\n",
    "    # (A[:,:,np.newaxis] * B).shape = (n, m, k)\n",
    "    # (A[:,:,np.newaxis] * B).sum(axis=1).shape = (n, k)\n",
    "    return (A[:,:,np.newaxis] * B).sum(axis=1)"
   ]
  },
  {
   "cell_type": "markdown",
   "metadata": {},
   "source": [
    "Проверьте правильность реализации на случайных матрицах. Должен получится ноль, либо очень малое число в пределах машинной точности."
   ]
  },
  {
   "cell_type": "code",
   "execution_count": 119,
   "metadata": {},
   "outputs": [
    {
     "data": {
      "text/plain": [
       "8.215650382226158e-14"
      ]
     },
     "execution_count": 119,
     "metadata": {},
     "output_type": "execute_result"
    }
   ],
   "source": [
    "A = sps.uniform.rvs(size=(10, 20))\n",
    "B = sps.uniform.rvs(size=(20, 30))\n",
    "np.abs(matrix_multiplication(A, B) - A @ B).sum()"
   ]
  },
  {
   "cell_type": "markdown",
   "metadata": {},
   "source": [
    "На основе опыта: вот в таком стиле многие из вас присылали бы нам свои работы, если не стали бы делать это задание :)"
   ]
  },
  {
   "cell_type": "code",
   "execution_count": 120,
   "metadata": {},
   "outputs": [],
   "source": [
    "def stupid_matrix_multiplication(A, B):\n",
    "    C = [[0 for j in range(len(B[0]))] for i in range(len(A))]\n",
    "    for i in range(len(A)):\n",
    "        for j in range(len(B[0])):\n",
    "            for k in range(len(B)):\n",
    "                C[i][j] += A[i][k] * B[k][j]\n",
    "    return C"
   ]
  },
  {
   "cell_type": "markdown",
   "metadata": {},
   "source": [
    "Проверьте, насколько быстрее работает ваш код по сравнению с неэффективной реализацией `stupid_matrix_multiplication`. Эффективный код на авторском ноутбуке работает почти в 200 раз быстрее. Для примера посмотрите также, насколько быстрее работают встроенные `numpy`-функции."
   ]
  },
  {
   "cell_type": "code",
   "execution_count": 121,
   "metadata": {},
   "outputs": [
    {
     "name": "stdout",
     "output_type": "stream",
     "text": [
      "CPU times: user 47.5 ms, sys: 39.8 ms, total: 87.3 ms\n",
      "Wall time: 87.2 ms\n",
      "CPU times: user 4.27 ms, sys: 4.3 ms, total: 8.57 ms\n",
      "Wall time: 1.27 ms\n",
      "CPU times: user 9.48 ms, sys: 1.78 ms, total: 11.3 ms\n",
      "Wall time: 1.64 ms\n",
      "CPU times: user 14.7 s, sys: 590 ms, total: 15.2 s\n",
      "Wall time: 14.4 s\n",
      "CPU times: user 9.16 ms, sys: 0 ns, total: 9.16 ms\n",
      "Wall time: 8.97 ms\n"
     ]
    }
   ],
   "source": [
    "A = sps.uniform.rvs(size=(400, 200))\n",
    "B = sps.uniform.rvs(size=(200, 300))\n",
    "\n",
    "%time C1 = matrix_multiplication(A, B)\n",
    "%time C2 = A @ B  # python 3.5\n",
    "%time C3 = np.matrix(A) * np.matrix(B)\n",
    "%time C4 = stupid_matrix_multiplication(A, B)\n",
    "%time C5 = np.einsum('ij,jk->ik', A, B) "
   ]
  },
  {
   "cell_type": "markdown",
   "metadata": {},
   "source": [
    "Ниже для примера приведена полная реализация функции. Ваc мы, конечно, не будем требовать проверять входные данные на корректность, но документации к функциям нужно писать."
   ]
  },
  {
   "cell_type": "code",
   "execution_count": 122,
   "metadata": {},
   "outputs": [],
   "source": [
    "def matrix_multiplication(A, B):\n",
    "    '''Возвращает матрицу, которая является результатом\n",
    "    матричного умножения матриц A и B.\n",
    "    \n",
    "    '''\n",
    "    \n",
    "    # Если A или B имеют другой тип, нужно выполнить преобразование типов\n",
    "    A = np.array(A)\n",
    "    B = np.array(B)\n",
    "    \n",
    "    # Проверка данных входных данных на корректность\n",
    "    assert A.ndim == 2 and B.ndim == 2, 'Размер матриц не равен 2'\n",
    "    assert A.shape[1] == B.shape[0], \\\n",
    "        ('Матрицы размерностей {} и {} неперемножаемы'.format(A.shape, B.shape))\n",
    "    \n",
    "    C = (A[:,:,np.newaxis] * B).sum(axis=1)\n",
    "    \n",
    "    return C"
   ]
  },
  {
   "cell_type": "markdown",
   "metadata": {},
   "source": [
    "### <font color=\"orange\"><i>Сложная часть: броуновское движение</i></font>"
   ]
  },
  {
   "cell_type": "markdown",
   "metadata": {},
   "source": [
    "### Задача 3"
   ]
  },
  {
   "cell_type": "markdown",
   "metadata": {},
   "source": [
    "<a target=\"_blank\" href=\"https://ru.wikipedia.org/wiki/Броуновское_движение\">Броуновское движение</a> — беспорядочное движение микроскопических видимых взвешенных частиц твёрдого вещества в жидкости или газе, вызываемое тепловым движением частиц жидкости или газа. \n",
    "\n",
    "Математически броуновское движение обычно моделируется как некоторая случайная функция $X_t$ аргумента $t$, который несет смысл времени. В каждый фиксированный момент времени $t$, значение $X_t$ является случайной величиной, характеризующей положение частицы в момент времени $t$. Считается, что для любого интервала времени $(s, t)$ перемещение (точнее, приращение) частицы за этот интервал времени имеет нормальное распределение: $X_t - X_s \\sim \\mathcal{N}(0, (t-s)\\sigma^2)$. Причем величина $X_t - X_s$ не зависит от приращения частицы за другие интервалы времени, не пересекающиеся с интервалом $(s, t)$. Математическая корректность данного определения будет доказана в курсе случайных процессов.\n",
    "\n",
    "Многомерное броуновское движение соответствует одномерным по каждой координате.\n",
    "\n",
    "Сгенерировать траекторию частицы в интервале времени $(0, T)$ в предположении броуновского движения можно следующим образом:\n",
    "1. Выбрать начальное положение, обычно это начало координат.\n",
    "2. Разбить интервал $(0, T)$ равномерно на интервалы длины $\\Delta t$. Величина $\\Delta t$ должна быть достаточно мала, в частности, на графиках не должно быть видно дискретности компьютерной генерации. \n",
    "3. Сгенерировать приращение частицы на каждом интервале по каждой координате независимо из распределения $\\mathcal{N}(0, \\sigma^2 \\Delta t)$.\n",
    "4. Для получения значений $X_t$ просуммировать необходимые приращения.\n"
   ]
  },
  {
   "cell_type": "markdown",
   "metadata": {},
   "source": [
    "\n",
    "**1.**\n",
    "Реализуйте функцию семплирования траекторий броуновского движения. Функция должна принимать в качестве аргументов:\n",
    "- Параметр $\\sigma$;\n",
    "- Время $T$;\n",
    "- Количество интервалов длины $\\Delta t$;\n",
    "- Размерность пространства, в котором реализуется траектория;\n",
    "- Количество различных частиц, для которых нужно сгенерировать траектории.\n",
    "\n",
    "Функция должна вернуть трехмерный массив `result`, где `result[i, j, k]` &mdash; значение $j$-й координаты $i$-й частицы на $k$-м шаге.\n",
    "\n",
    "При реализации считайте, что все частицы в начальный момент времени находятся в начале координат.\n",
    "Функцию нужно реализовать для произвольной размерности, не используя циклы. Можно использовать функции из `scipy`."
   ]
  },
  {
   "cell_type": "code",
   "execution_count": null,
   "metadata": {},
   "outputs": [],
   "source": [
    "<...>"
   ]
  },
  {
   "cell_type": "markdown",
   "metadata": {},
   "source": [
    "**2.**\n",
    "Визуализируйте траектории для двумерного броуновского движения для трех разных значений $\\sigma$. Число интервалов не менее 10000. Для каждого значения $\\sigma$ постройте 6 разных частиц в виде сетки графиков $2 \\times 3$. Координатные оси должны иметь одинаковый масштаб."
   ]
  },
  {
   "cell_type": "code",
   "execution_count": null,
   "metadata": {},
   "outputs": [],
   "source": [
    "<...>"
   ]
  },
  {
   "cell_type": "markdown",
   "metadata": {},
   "source": [
    "Как вид траектории зависит от $\\sigma$?"
   ]
  },
  {
   "cell_type": "code",
   "execution_count": null,
   "metadata": {},
   "outputs": [],
   "source": [
    "<...>"
   ]
  },
  {
   "cell_type": "markdown",
   "metadata": {},
   "source": [
    "Сгенерируйте траекторию в трехмерном пространстве и постройте для нее 3D-график."
   ]
  },
  {
   "cell_type": "code",
   "execution_count": null,
   "metadata": {},
   "outputs": [],
   "source": [
    "<...>"
   ]
  },
  {
   "cell_type": "markdown",
   "metadata": {},
   "source": [
    "**3.** Исследуйте, как зависит среднее расстояние частицы до начала координат от времени и от параметра $\\sigma$. Проведите исследование для разных размерностей пространства. Под средним в теории понимается математическое ожидание. На практике нужно исследовать его оценку посредством генерации множества траекторий.\n",
    "\n",
    "В исследовании обязательно дожны присутствовать текстовые пояснения и графики. Сделайте выводы."
   ]
  },
  {
   "cell_type": "code",
   "execution_count": null,
   "metadata": {},
   "outputs": [],
   "source": [
    "<...>"
   ]
  },
  {
   "cell_type": "markdown",
   "metadata": {},
   "source": [
    "### <font color=\"orange\"><i>Сложная часть: визуализация распределений</i></font>"
   ]
  },
  {
   "cell_type": "markdown",
   "metadata": {},
   "source": [
    "### Задача 4"
   ]
  },
  {
   "cell_type": "markdown",
   "metadata": {},
   "source": [
    "В этой задаче вам нужно исследовать свойства дискретных распределений и абсолютно непрерывных распределений.\n",
    "\n",
    "Для перечисленных ниже распределений нужно  \n",
    "1. На основе графиков дискретной плотности (функции массы) для различных параметров пояснить, за что отвечает каждый параметр.  \n",
    "2. Сгенерировать набор независимых случайных величин из этого распределения и построить по ним гистограмму.  \n",
    "3. Сделать выводы о свойтсвах параметров каждого из распределений.\n",
    "\n",
    "Распределения:\n",
    "* Бернулли \n",
    "* Биномиальное\n",
    "* Дискретное равномерное\n",
    "* Геометрическое\n",
    "\n",
    "Для выполнения данного задания можно использовать код с лекции. Можно использовать функции из `scipy`. Сделать виджеты недостаточно, поскольку они не сохраняются."
   ]
  },
  {
   "cell_type": "code",
   "execution_count": null,
   "metadata": {},
   "outputs": [],
   "source": [
    "<...>"
   ]
  }
 ],
 "metadata": {
  "kernelspec": {
   "display_name": "Python 3",
   "language": "python",
   "name": "python3"
  },
  "language_info": {
   "codemirror_mode": {
    "name": "ipython",
    "version": 3
   },
   "file_extension": ".py",
   "mimetype": "text/x-python",
   "name": "python",
   "nbconvert_exporter": "python",
   "pygments_lexer": "ipython3",
   "version": "3.9.1"
  }
 },
 "nbformat": 4,
 "nbformat_minor": 2
}
